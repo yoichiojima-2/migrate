{
 "cells": [
  {
   "cell_type": "code",
   "execution_count": null,
   "metadata": {},
   "outputs": [],
   "source": [
    "import os\n",
    "from pathlib import Path\n",
    "import pandas as pd\n",
    "from tabulate import tabulate"
   ]
  },
  {
   "cell_type": "code",
   "execution_count": 22,
   "metadata": {},
   "outputs": [],
   "source": [
    "pd.options.display.max_columns = 1000\n",
    "pd.options.display.max_rows = 10\n",
    "pd.set_option(\"display.max_colwidth\", None)"
   ]
  },
  {
   "cell_type": "code",
   "execution_count": 23,
   "metadata": {},
   "outputs": [],
   "source": [
    "targets = [\n",
    "    \"United States\",\n",
    "    \"United Kingdom\",\n",
    "    \"Canada\",\n",
    "    \"Australia\",\n",
    "    \"Germany\",\n",
    "    \"Japan\",\n",
    "    \"Netherlands\",\n",
    "]"
   ]
  },
  {
   "cell_type": "code",
   "execution_count": 40,
   "metadata": {},
   "outputs": [
    {
     "name": "stdout",
     "output_type": "stream",
     "text": [
      "tabulating...: /Users/yo/Developer/repo/sign-to-migrate/data/cpi.json\n",
      "tabulating...: /Users/yo/Developer/repo/sign-to-migrate/data/unemployment_rate.json\n",
      "tabulating...: /Users/yo/Developer/repo/sign-to-migrate/data/women_in_senior_and_middle_position.json\n",
      "tabulating...: /Users/yo/Developer/repo/sign-to-migrate/data/youth_neet_proportion.json\n",
      "tabulating...: /Users/yo/Developer/repo/sign-to-migrate/data/average_hourly_earnings.json\n",
      "tabulating...: /Users/yo/Developer/repo/sign-to-migrate/data/working_poverty_rate.json\n",
      "tabulating...: /Users/yo/Developer/repo/sign-to-migrate/data/social_protection.json\n",
      "tabulating...: /Users/yo/Developer/repo/sign-to-migrate/data/labour_rights.json\n",
      "tabulating...: /Users/yo/Developer/repo/sign-to-migrate/data/cost_of_living.json\n",
      "tabulating...: /Users/yo/Developer/repo/sign-to-migrate/data/annual_growth_rate_per_worker.json\n",
      "tabulating...: /Users/yo/Developer/repo/sign-to-migrate/data/women_in_managerial_position.json\n",
      "tabulating...: /Users/yo/Developer/repo/sign-to-migrate/data/unemployment_rate_disability.json\n",
      "tabulating...: /Users/yo/Developer/repo/sign-to-migrate/data/informal_employment.json\n",
      "tabulating...: /Users/yo/Developer/repo/sign-to-migrate/data/happiness.json\n"
     ]
    }
   ],
   "source": [
    "output_dir = Path().cwd().parent / \"output\"\n",
    "\n",
    "\n",
    "def read_data(path: Path) -> pd.DataFrame:\n",
    "    return pd.read_json(path)\n",
    "\n",
    "\n",
    "for i in Path(os.getenv(\"DATA_DIR\")).rglob(\"*.json\"):\n",
    "    print(f\"tabulating...: {i}\")\n",
    "    df = read_data(i)\n",
    "    df = df[df[\"country\"].isin(targets)].sort_values(\"country\")\n",
    "    (output_dir / f\"{i.stem}.txt\").write_text(tabulate(df, headers=\"keys\", tablefmt=\"grid\", showindex=False))"
   ]
  },
  {
   "cell_type": "code",
   "execution_count": null,
   "metadata": {},
   "outputs": [],
   "source": []
  }
 ],
 "metadata": {
  "kernelspec": {
   "display_name": ".venv",
   "language": "python",
   "name": "python3"
  },
  "language_info": {
   "codemirror_mode": {
    "name": "ipython",
    "version": 3
   },
   "file_extension": ".py",
   "mimetype": "text/x-python",
   "name": "python",
   "nbconvert_exporter": "python",
   "pygments_lexer": "ipython3",
   "version": "3.13.0"
  }
 },
 "nbformat": 4,
 "nbformat_minor": 4
}
