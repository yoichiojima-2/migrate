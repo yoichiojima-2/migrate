{
 "cells": [
  {
   "cell_type": "code",
   "execution_count": null,
   "metadata": {},
   "outputs": [
    {
     "data": {
      "text/plain": [
       "dict_keys(['Apartment (1 bedroom) Outside of Centre', 'Apartment (1 bedroom) in City Centre', 'Apartment (3 bedrooms) Outside of Centre', 'Apartment (3 bedrooms) in City Centre', 'Average Monthly Net Salary (After Tax)', 'Basic (Electricity, Heating, Cooling, Water, Garbage) for 85m2 Apartment', 'Cappuccino (regular)', 'Cigarettes 20 Pack (Marlboro)', 'McMeal at McDonalds (or Equivalent Combo Meal)', 'Mobile Phone Monthly Plan with Calls and 10GB+ Data', 'Price per Square Meter to Buy Apartment Outside of Centre', 'Price per Square Meter to Buy Apartment in City Centre', 'Water (1.5 liter bottle)', 'Happiness.Score', 'Economy..GDP.per.Capita.', 'Family', 'Health..Life.Expectancy.', 'Freedom', 'Generosity', 'Trust..Government.Corruption.', 'Dystopia.Residual'])"
      ]
     },
     "execution_count": 22,
     "metadata": {},
     "output_type": "execute_result"
    }
   ],
   "source": [
    "import os\n",
    "from pathlib import Path\n",
    "import pandas as pd\n",
    "import json\n",
    "from pprint import pprint\n",
    "\n",
    "\n",
    "os.environ[\"SIGN_TO_MIGRATE_ROOT\"] = str(Path().cwd().parent.parent)\n",
    "\n",
    "d = json.load(Path(f\"{os.getenv(\"SIGN_TO_MIGRATE_ROOT\")}/data/summary_tokyo.json\").open())\n",
    "list(d[\"seoul\"].keys())"
   ]
  },
  {
   "cell_type": "code",
   "execution_count": null,
   "metadata": {},
   "outputs": [],
   "source": []
  }
 ],
 "metadata": {
  "kernelspec": {
   "display_name": ".venv",
   "language": "python",
   "name": "python3"
  },
  "language_info": {
   "codemirror_mode": {
    "name": "ipython",
    "version": 3
   },
   "file_extension": ".py",
   "mimetype": "text/x-python",
   "name": "python",
   "nbconvert_exporter": "python",
   "pygments_lexer": "ipython3",
   "version": "3.13.0"
  }
 },
 "nbformat": 4,
 "nbformat_minor": 4
}
