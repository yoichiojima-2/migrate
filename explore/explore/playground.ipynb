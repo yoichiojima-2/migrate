{
 "cells": [
  {
   "cell_type": "code",
   "execution_count": null,
   "metadata": {},
   "outputs": [],
   "source": [
    "import os\n",
    "from pathlib import Path\n",
    "import yaml\n",
    "import pandas as pd\n",
    "import seaborn as sns"
   ]
  },
  {
   "cell_type": "code",
   "execution_count": null,
   "metadata": {},
   "outputs": [],
   "source": [
    "pd.options.display.max_columns = 1000\n",
    "pd.options.display.max_rows = 1000\n",
    "pd.set_option(\"display.max_colwidth\", None)\n",
    "sns.set()"
   ]
  },
  {
   "cell_type": "code",
   "execution_count": null,
   "metadata": {},
   "outputs": [],
   "source": [
    "os.environ[\"APP_ROOT\"] = str(Path().cwd().parent.parent)\n",
    "os.environ[\"DATA_DIR\"] = str(Path().cwd().parent.parent / \"data\")"
   ]
  },
  {
   "cell_type": "code",
   "execution_count": null,
   "metadata": {},
   "outputs": [],
   "source": [
    "cities = yaml.safe_load((Path(os.getenv(\"APP_ROOT\")) / \"config.yaml\").open())[\"cities\"]"
   ]
  },
  {
   "cell_type": "code",
   "execution_count": null,
   "metadata": {},
   "outputs": [],
   "source": [
    "def summarize(current_city):\n",
    "    # fmt: off\n",
    "    df = (\n",
    "        pd.read_json(f\"{os.getenv('DATA_DIR')}/cost_of_living_cleansed.json\")\n",
    "        [[\n",
    "            \"city\",\n",
    "            \"country\",\n",
    "            'Apartment (1 bedroom) Outside of Centre',\n",
    "            'Apartment (1 bedroom) in City Centre',\n",
    "            'Apartment (3 bedrooms) Outside of Centre',\n",
    "            'Apartment (3 bedrooms) in City Centre',\n",
    "            'Average Monthly Net Salary (After Tax)',\n",
    "            'Basic (Electricity, Heating, Cooling, Water, Garbage) for 85m2 Apartment',\n",
    "            'Cappuccino (regular)',\n",
    "            \"Cigarettes 20 Pack (Marlboro)\",\n",
    "            \"Mobile Phone Monthly Plan with Calls and 10GB+ Data\",\n",
    "            'McMeal at McDonalds (or Equivalent Combo Meal)',\n",
    "            'Price per Square Meter to Buy Apartment Outside of Centre',\n",
    "            'Price per Square Meter to Buy Apartment in City Centre',\n",
    "            'Water (1.5 liter bottle)',\n",
    "        ]]\n",
    "        .merge(\n",
    "            pd.read_json(f\"{os.getenv('DATA_DIR')}/happiness.json\")\n",
    "            .rename(columns={\"Country\": \"country\"})\n",
    "            .drop(columns=[\"Year\", \"Happiness.Rank\"]),\n",
    "            on=[\"country\"],\n",
    "            how=\"left\",\n",
    "        )\n",
    "        .melt(id_vars=[\"city\", \"country\"], var_name=\"feature\", value_name=\"value\")\n",
    "    )\n",
    "    # fmt: on\n",
    "\n",
    "    current_city_val_name = \"value_in_current_city\"\n",
    "    current_df = (\n",
    "        df[df[\"city\"] == current_city].drop(columns=[\"city\", \"country\"]).rename(columns={\"value\": current_city_val_name})\n",
    "    )\n",
    "\n",
    "    rest_df = df[df[\"city\"] != current_city]\n",
    "\n",
    "    diff_df = rest_df.merge(current_df, on=\"feature\", how=\"left\")\n",
    "    diff_df[\"diff_amount\"] = diff_df[\"value\"] - diff_df[current_city_val_name]\n",
    "    diff_df[\"diff_rate\"] = round(diff_df[\"value\"] / diff_df[current_city_val_name] - 1, 2)\n",
    "    diff_df = diff_df[[\"city\", \"feature\", current_city_val_name, \"diff_amount\", \"diff_rate\"]]\n",
    "\n",
    "    output_df = rest_df.merge(diff_df, on=[\"city\", \"feature\"], how=\"left\")\n",
    "    output_df.to_json(\n",
    "        f\"{os.getenv('DATA_DIR')}/summary_{current_city.lower().replace(\"-\", \"_\")}.json\",\n",
    "        orient=\"records\",\n",
    "        indent=2,\n",
    "    )"
   ]
  },
  {
   "cell_type": "code",
   "execution_count": null,
   "metadata": {},
   "outputs": [],
   "source": [
    "for city in cities:\n",
    "    summarize(city)"
   ]
  },
  {
   "cell_type": "code",
   "execution_count": null,
   "metadata": {},
   "outputs": [],
   "source": []
  }
 ],
 "metadata": {
  "kernelspec": {
   "display_name": ".venv",
   "language": "python",
   "name": "python3"
  },
  "language_info": {
   "codemirror_mode": {
    "name": "ipython",
    "version": 3
   },
   "file_extension": ".py",
   "mimetype": "text/x-python",
   "name": "python",
   "nbconvert_exporter": "python",
   "pygments_lexer": "ipython3",
   "version": "3.13.0"
  }
 },
 "nbformat": 4,
 "nbformat_minor": 4
}
