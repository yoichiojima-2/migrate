{
 "cells": [
  {
   "cell_type": "code",
   "execution_count": null,
   "metadata": {},
   "outputs": [],
   "source": [
    "import pandas as pd\n",
    "from pathlib import Path\n",
    "import kagglehub\n",
    "\n",
    "\n",
    "root = Path().cwd().parent.parent\n",
    "\n",
    "for f in (root / \"data\").rglob(\"*.json\"):\n",
    "    if \"summary\" not in f.name:\n",
    "        if \"cost_of_living\" not in f.name:\n",
    "            if \"happiness\" not in f.name:\n",
    "                print(f.stem)"
   ]
  },
  {
   "cell_type": "code",
   "execution_count": null,
   "metadata": {},
   "outputs": [],
   "source": [
    "for i in pd.read_json(root / \"data/cost_of_living.json\")[\"item\"].drop_duplicates().values:\n",
    "    print(i.lower())"
   ]
  },
  {
   "cell_type": "code",
   "execution_count": null,
   "metadata": {},
   "outputs": [],
   "source": [
    "\n",
    "class HappinessTask():\n",
    "    output_name = \"happiness.json\"\n",
    "\n",
    "    @staticmethod\n",
    "    def _read_and_attatch_year(path: Path) -> pd.DataFrame:\n",
    "        df = pd.read_csv(path)\n",
    "        df[\"Year\"] = path.stem\n",
    "        return df\n",
    "\n",
    "    def extract(self) -> pd.DataFrame:\n",
    "        path: str = kagglehub.dataset_download(\"unsdsn/world-happiness\")\n",
    "        return pd.concat([self._read_and_attatch_year(p) for p in Path(path).glob(\"*.csv\")])\n",
    "\n",
    "    def transform(self, df: pd.DataFrame) -> pd.DataFrame:\n",
    "        # fmt: off\n",
    "        return (\n",
    "            df[[\n",
    "                \"Country\",\n",
    "                \"Year\",\n",
    "                \"Happiness.Rank\",\n",
    "                \"Happiness.Score\",\n",
    "                \"Economy..GDP.per.Capita.\",\n",
    "                \"Family\",\n",
    "                \"Health..Life.Expectancy.\",\n",
    "                \"Freedom\",\n",
    "                \"Generosity\",\n",
    "                \"Trust..Government.Corruption.\",\n",
    "                \"Dystopia.Residual\",\n",
    "            ]]\n",
    "            [df[\"Happiness.Rank\"].notna()]\n",
    "        )\n",
    "        # fmt: on\n",
    "\n",
    "    def load(self, df: pd.DataFrame) -> pd.DataFrame:\n",
    "        df.to_json(Path(os.getenv(\"SIGN_TO_MIGRATE_ROOT\")) / f\"data/{self.output_name}\", orient=\"records\", index=False)"
   ]
  },
  {
   "cell_type": "code",
   "execution_count": null,
   "metadata": {},
   "outputs": [],
   "source": [
    "for i in HappinessTask().extract().columns:\n",
    "    print(i.lower())"
   ]
  },
  {
   "cell_type": "code",
   "execution_count": null,
   "metadata": {},
   "outputs": [],
   "source": []
  }
 ],
 "metadata": {
  "kernelspec": {
   "display_name": ".venv",
   "language": "python",
   "name": "python3"
  },
  "language_info": {
   "codemirror_mode": {
    "name": "ipython",
    "version": 3
   },
   "file_extension": ".py",
   "mimetype": "text/x-python",
   "name": "python",
   "nbconvert_exporter": "python",
   "pygments_lexer": "ipython3",
   "version": "3.13.0"
  }
 },
 "nbformat": 4,
 "nbformat_minor": 4
}
