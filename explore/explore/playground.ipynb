{
 "cells": [
  {
   "cell_type": "code",
   "execution_count": null,
   "metadata": {},
   "outputs": [],
   "source": [
    "import os\n",
    "from pathlib import Path\n",
    "import pandas as pd\n",
    "from tabulate import tabulate"
   ]
  },
  {
   "cell_type": "code",
   "execution_count": null,
   "metadata": {},
   "outputs": [],
   "source": [
    "pd.options.display.max_columns = 1000\n",
    "pd.options.display.max_rows = 1000\n",
    "pd.set_option(\"display.max_colwidth\", None)"
   ]
  },
  {
   "cell_type": "code",
   "execution_count": null,
   "metadata": {},
   "outputs": [],
   "source": [
    "targets = [\n",
    "    \"United States\",\n",
    "    \"United Kingdom\",\n",
    "    \"Canada\",\n",
    "    \"Australia\",\n",
    "    \"Germany\",\n",
    "    \"Japan\",\n",
    "    \"Netherlands\",\n",
    "]"
   ]
  },
  {
   "cell_type": "code",
   "execution_count": null,
   "metadata": {},
   "outputs": [],
   "source": [
    "output_dir = Path().cwd().parent / \"output\"\n",
    "\n",
    "\n",
    "def read_data(path: Path) -> pd.DataFrame:\n",
    "    return pd.read_json(path)\n",
    "\n",
    "\n",
    "for i in Path(os.getenv(\"DATA_DIR\")).rglob(\"*.json\"):\n",
    "    print(f\"tabulating...: {i}\")\n",
    "    df = read_data(i)\n",
    "    df = df[df[\"country\"].isin(targets)].sort_values(\"country\")\n",
    "    (output_dir / f\"{i.stem}.txt\").write_text(\n",
    "        tabulate(df, headers=\"keys\", tablefmt=\"grid\", showindex=False)\n",
    "    )"
   ]
  },
  {
   "cell_type": "code",
   "execution_count": null,
   "metadata": {},
   "outputs": [],
   "source": [
    "df = read_data(Path(f\"{os.getenv('DATA_DIR')}/happiness.json\"))\n",
    "# df = df[[\"country\", \"year\"]].drop_duplicates()\n",
    "# df[df[\"country\"].isin(targets)].sort_values([\"year\", \"country\"])\n",
    "df.sort_values([\"year\", \"country\"])"
   ]
  },
  {
   "cell_type": "code",
   "execution_count": null,
   "metadata": {},
   "outputs": [],
   "source": []
  }
 ],
 "metadata": {
  "kernelspec": {
   "display_name": ".venv",
   "language": "python",
   "name": "python3"
  },
  "language_info": {
   "codemirror_mode": {
    "name": "ipython",
    "version": 3
   },
   "file_extension": ".py",
   "mimetype": "text/x-python",
   "name": "python",
   "nbconvert_exporter": "python",
   "pygments_lexer": "ipython3",
   "version": "3.13.0"
  }
 },
 "nbformat": 4,
 "nbformat_minor": 4
}
